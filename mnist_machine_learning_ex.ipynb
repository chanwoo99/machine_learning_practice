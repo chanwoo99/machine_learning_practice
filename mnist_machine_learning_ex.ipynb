{
  "nbformat": 4,
  "nbformat_minor": 0,
  "metadata": {
    "colab": {
      "name": "mnist machine learning ex.ipynb",
      "version": "0.3.2",
      "provenance": [],
      "collapsed_sections": [],
      "include_colab_link": true
    },
    "kernelspec": {
      "name": "python3",
      "display_name": "Python 3"
    },
    "accelerator": "TPU"
  },
  "cells": [
    {
      "cell_type": "markdown",
      "metadata": {
        "id": "view-in-github",
        "colab_type": "text"
      },
      "source": [
        "<a href=\"https://colab.research.google.com/github/ixora99/machine_learning_practice/blob/master/mnist_machine_learning_ex.ipynb\" target=\"_parent\"><img src=\"https://colab.research.google.com/assets/colab-badge.svg\" alt=\"Open In Colab\"/></a>"
      ]
    },
    {
      "metadata": {
        "id": "Vbd8XrfNwl_a",
        "colab_type": "code",
        "outputId": "ba226187-50d2-4712-e453-9521dfc52c01",
        "colab": {
          "base_uri": "https://localhost:8080/",
          "height": 36
        }
      },
      "cell_type": "code",
      "source": [
        "import numpy as np\n",
        "import os, sys\n",
        "from collections import OrderedDict\n",
        "!git clone https://github.com/ixora99/deep-learning-from-scratch.git\n",
        "\n",
        "sys.path.append('deep-learning-from-scratch/')\n",
        "\n",
        "\n",
        "\n",
        "      "
      ],
      "execution_count": 151,
      "outputs": [
        {
          "output_type": "stream",
          "text": [
            "fatal: destination path 'deep-learning-from-scratch' already exists and is not an empty directory.\n"
          ],
          "name": "stdout"
        }
      ]
    },
    {
      "metadata": {
        "id": "NZeFWM_71FVm",
        "colab_type": "code",
        "colab": {}
      },
      "cell_type": "code",
      "source": [
        "class Affine:\n",
        "    def __init__(self,W,b):\n",
        "      self.W = W\n",
        "      self.b = b\n",
        "      self.x = None\n",
        "      self.dW = None\n",
        "      self.dB = None\n",
        "      \n",
        "    def forward(self,x):\n",
        "      self.x=x\n",
        "      return np.dot(x,self.W) + self.b\n",
        "    \n",
        "    def backward(self,dout):\n",
        "      dx=np.dot(dout,self.W.T)\n",
        "      self.dW=np.dot(self.x.T,dout)\n",
        "      self.dB=np.sum(dout,axis=0)\n",
        "      return dx"
      ],
      "execution_count": 0,
      "outputs": []
    },
    {
      "metadata": {
        "id": "o65kfyDj3XHE",
        "colab_type": "code",
        "colab": {}
      },
      "cell_type": "code",
      "source": [
        "class sigmoid:\n",
        "    def __init__(self):\n",
        "      self.out =None\n",
        "    def forward(self,x):\n",
        "      out = 1/(1+np.exp(-x))\n",
        "      self.out=out\n",
        "      return out\n",
        "    def backward(self,dout):\n",
        "      dx=dout*(1.0-self.out)*self.out\n",
        "      return dx\n",
        "    \n",
        "class Relu:\n",
        "  def __init__(self):\n",
        "    self.mask = None\n",
        "    \n",
        "  def forward(self,x):\n",
        "    self.mask=(x<=0)\n",
        "    out = x.copy()\n",
        "    out[self.mask]=0\n",
        "    return out\n",
        "  def backward(self,dout):\n",
        "    dout[self.mask]=0\n",
        "    dx=dout\n",
        "    return dx\n",
        "      \n",
        "  \n",
        "      "
      ],
      "execution_count": 0,
      "outputs": []
    },
    {
      "metadata": {
        "id": "LmvXpajX5WFm",
        "colab_type": "code",
        "colab": {}
      },
      "cell_type": "code",
      "source": [
        "class SoftmaxWithLoss:\n",
        "  def __inti__(self):\n",
        "    self.loss = None \n",
        "    self.y = None\n",
        "    self.t = None\n",
        "    \n",
        "  def forward(self, x, t):\n",
        "    self.t = t\n",
        "    self.y = softmax(x)\n",
        "    self.loss = cross_entropy_error(self.y, self.t)\n",
        "    return self.loss\n",
        "  \n",
        "  def backward(self, dout=1):\n",
        "    batch_size = self.y.shape[0]\n",
        "    dx = (self.y - self.t) / batch_size\n",
        "    \n",
        "    return dx\n",
        "    \n",
        "    "
      ],
      "execution_count": 0,
      "outputs": []
    },
    {
      "metadata": {
        "id": "p4jiL7AArVFH",
        "colab_type": "code",
        "colab": {}
      },
      "cell_type": "code",
      "source": [
        "def softmax(x):\n",
        "    if x.ndim == 2:\n",
        "        x = x.T\n",
        "        x = x - np.max(x, axis=0)\n",
        "        y = np.exp(x) / np.sum(np.exp(x), axis=0)\n",
        "        return y.T \n",
        "\n",
        "    x = x - np.max(x) # 오버플로 대책\n",
        "    return np.exp(x) / np.sum(np.exp(x))\n",
        "  \n",
        "def cross_entropy_error(y, t):\n",
        "    if y.ndim == 1:\n",
        "        t = t.reshape(1, t.size)\n",
        "        y = y.reshape(1, y.size)\n",
        "        \n",
        "    if t.size == y.size:\n",
        "        t = t.argmax(axis=1)\n",
        "             \n",
        "    batch_size = y.shape[0]\n",
        "    return -np.sum(np.log(y[np.arange(batch_size), t] + 1e-7)) / batch_size\n",
        "\n",
        "  "
      ],
      "execution_count": 0,
      "outputs": []
    },
    {
      "metadata": {
        "id": "AsFnE59rtnsJ",
        "colab_type": "code",
        "colab": {}
      },
      "cell_type": "code",
      "source": [
        "class TwoLayerNet:\n",
        "  def __init__(self,input_size,hidden_size, output_size, weight_init_std=0.01):\n",
        "    #파라미터\n",
        "    self.params={}\n",
        "    self.params['W1'] = weight_init_std*np.random.randn(input_size,hidden_size)\n",
        "    self.params['W2'] = weight_init_std*np.random.randn(hidden_size,output_size)\n",
        "    self.params['b1'] = np.zeros(hidden_size)\n",
        "    self.params['b2'] = np.zeros(output_size)\n",
        "    \n",
        "    #레이어\n",
        "    self.layers=OrderedDict()\n",
        "    self.layers['Affine1']=Affine(self.params['W1'],self.params['b1'])\n",
        "    self.layers['Relu'] = Relu()\n",
        "    self.layers['Affine2']=Affine(self.params['W2'],self.params['b2'])\n",
        "    self.lastlayer=SoftmaxWithLoss()\n",
        "    \n",
        "  def predict(self,x):\n",
        "    for layer in self.layers.values():\n",
        "      x=layer.forward(x)\n",
        "      \n",
        "    return x\n",
        "  \n",
        "  \n",
        "  def loss(self, x, t):\n",
        "    y=self.predict(x)\n",
        "    \n",
        "    return self.lastlayer.forward(y,t)\n",
        "  \n",
        "  \n",
        "  def accuracy(self,x,t):\n",
        "    y=self.predict(x)\n",
        "    y=np.argmax(y,axis=1)\n",
        "    t=np.argmax(t,axis=1)\n",
        "    accuracy = np.sum(y==t)/float(x.shape[0])\n",
        "    \n",
        "    return accuracy\n",
        "  \n",
        "  def gradient(self,x,t):\n",
        "    #순전파\n",
        "    self.loss(x,t)\n",
        "    \n",
        "    #역전파\n",
        "    dout=1\n",
        "    dout=self.lastlayer.backward(dout)\n",
        "    layers=list(self.layers.values())\n",
        "    layers.reverse()\n",
        "    for layer in layers:\n",
        "      dout=layer.backward(dout)\n",
        "    \n",
        "    grads={}\n",
        "    \n",
        "    grads['W1'] = self.layers['Affine1'].dW\n",
        "    grads['W2'] = self.layers['Affine2'].dW\n",
        "    grads['b1'] = self.layers['Affine1'].dB\n",
        "    grads['b2'] = self.layers['Affine2'].dB\n",
        "    \n",
        "    return grads\n",
        "  \n",
        "  \n",
        "  \n",
        "  \n",
        "    \n",
        "    \n",
        "    \n",
        "    \n",
        "    "
      ],
      "execution_count": 0,
      "outputs": []
    },
    {
      "metadata": {
        "id": "kD5q6kUNPMNT",
        "colab_type": "code",
        "colab": {
          "base_uri": "https://localhost:8080/",
          "height": 553
        },
        "outputId": "341f40bf-094b-414f-e813-1ebb941eb827"
      },
      "cell_type": "code",
      "source": [
        "import matplotlib.pyplot as plt\n",
        "\n",
        "from dataset.mnist import load_mnist\n",
        "\n",
        "(x_train, t_train),(x_test, t_test) = load_mnist(normalize=True, one_hot_label=True)\n",
        "network = TwoLayerNet(input_size=784, hidden_size = 50, output_size=10)\n",
        "\n",
        "iters_num=10000\n",
        "train_size=x_train.shape[0]\n",
        "batch_size =100\n",
        "learning_rate=0.1\n",
        "\n",
        "train_loss_list=[]\n",
        "train_acc_list=[]\n",
        "test_acc_list=[]\n",
        "\n",
        "\n",
        "for i in range(iters_num):\n",
        "  batch_mask = np.random.choice(train_size,batch_size)\n",
        "  x_batch= x_train[batch_mask]\n",
        "  t_batch= t_train[batch_mask]\n",
        "  \n",
        "  grad = network.gradient(x_batch, t_batch)\n",
        "  for key in ('W1','b1','W2','b2'):\n",
        "    network.params[key] -= learning_rate*grad[key]\n",
        "    \n",
        "  loss = network.loss(x_batch, t_batch)\n",
        "  accuracy=network.accuracy(x_batch, t_batch)\n",
        "  train_acc_list.append(accuracy)\n",
        "  train_loss_list.append(loss)\n",
        "  if (i%100) ==0:\n",
        "    print(i/100,end=' >')\n",
        "    if (i%1000)==0:\n",
        "      print('')\n",
        "  \n",
        "plt.plot(train_loss_list)\n",
        "plt.show\n",
        "plt.plot(train_acc_list)\n",
        "plt.show"
      ],
      "execution_count": 157,
      "outputs": [
        {
          "output_type": "stream",
          "text": [
            "0.0 >\n",
            "1.0 >2.0 >3.0 >4.0 >5.0 >6.0 >7.0 >8.0 >9.0 >10.0 >\n",
            "11.0 >12.0 >13.0 >14.0 >15.0 >16.0 >17.0 >18.0 >19.0 >20.0 >\n",
            "21.0 >22.0 >23.0 >24.0 >25.0 >26.0 >27.0 >28.0 >29.0 >30.0 >\n",
            "31.0 >32.0 >33.0 >34.0 >35.0 >36.0 >37.0 >38.0 >39.0 >40.0 >\n",
            "41.0 >42.0 >43.0 >44.0 >45.0 >46.0 >47.0 >48.0 >49.0 >50.0 >\n",
            "51.0 >52.0 >53.0 >54.0 >55.0 >56.0 >57.0 >58.0 >59.0 >60.0 >\n",
            "61.0 >62.0 >63.0 >64.0 >65.0 >66.0 >67.0 >68.0 >69.0 >70.0 >\n",
            "71.0 >72.0 >73.0 >74.0 >75.0 >76.0 >77.0 >78.0 >79.0 >80.0 >\n",
            "81.0 >82.0 >83.0 >84.0 >85.0 >86.0 >87.0 >88.0 >89.0 >90.0 >\n",
            "91.0 >92.0 >93.0 >94.0 >95.0 >96.0 >97.0 >98.0 >99.0 >"
          ],
          "name": "stdout"
        },
        {
          "output_type": "execute_result",
          "data": {
            "text/plain": [
              "<function matplotlib.pyplot.show>"
            ]
          },
          "metadata": {
            "tags": []
          },
          "execution_count": 157
        },
        {
          "output_type": "display_data",
          "data": {
            "image/png": "[encoded data removed]",
            "text/plain": [
              "<Figure size 576x396 with 1 Axes>"
            ]
          },
          "metadata": {
            "tags": []
          }
        }
      ]
    }
  ]
}